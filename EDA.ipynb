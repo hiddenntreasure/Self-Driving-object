{
  "nbformat": 4,
  "nbformat_minor": 0,
  "metadata": {
    "colab": {
      "name": "EDA.ipynb",
      "provenance": [],
      "mount_file_id": "https://github.com/hiddenntreasure/Self-Driving-object/blob/master/EDA.ipynb",
      "authorship_tag": "ABX9TyOV8KOo/gZP/kQKxK3wyB73",
      "include_colab_link": true
    },
    "kernelspec": {
      "name": "python3",
      "display_name": "Python 3"
    }
  },
  "cells": [
    {
      "cell_type": "markdown",
      "metadata": {
        "id": "view-in-github",
        "colab_type": "text"
      },
      "source": [
        "<a href=\"https://colab.research.google.com/github/hiddenntreasure/Self-Driving-object/blob/master/EDA.ipynb\" target=\"_parent\"><img src=\"https://colab.research.google.com/assets/colab-badge.svg\" alt=\"Open In Colab\"/></a>"
      ]
    },
    {
      "cell_type": "code",
      "metadata": {
        "id": "Un0CJvdGcVvK",
        "colab_type": "code",
        "outputId": "1ec5333d-4852-46f6-b7d2-6d248f0dbdc9",
        "colab": {
          "base_uri": "https://localhost:8080/",
          "height": 68
        }
      },
      "source": [
        "from itertools import islice\n",
        "a =[1,2,3,4,5,6]\n",
        "for i in islice(a,3):\n",
        "  print(i)\n",
        "  #print(j)"
      ],
      "execution_count": 1,
      "outputs": [
        {
          "output_type": "stream",
          "text": [
            "1\n",
            "2\n",
            "3\n"
          ],
          "name": "stdout"
        }
      ]
    },
    {
      "cell_type": "code",
      "metadata": {
        "id": "fj3tkAAoeONe",
        "colab_type": "code",
        "outputId": "3cfd5389-fc35-4137-a2ab-aac600beafcc",
        "colab": {
          "base_uri": "https://localhost:8080/",
          "height": 68
        }
      },
      "source": [
        "from __future__ import division\n",
        "import os\n",
        "import numpy as np\n",
        "import random\n",
        "\n",
        "from scipy import pi\n",
        "from itertools import islice\n",
        "\n",
        "data_folder = '/content/drive/My Drive/Colab Notebooks/CS 11 : Self Driving Car'\n",
        "train_file = os.path.join(data_folder,'data.txt')\n",
        "split = 0.8\n",
        "X = []\n",
        "y = []\n",
        "\n",
        "with open(train_file) as fp:\n",
        "  for line in islice(fp,45406):\n",
        "    path,angle = line.strip().split()\n",
        "    full_path = os.path.join(data_folder,path)\n",
        "    X.append(full_path)\n",
        "    y.append(float(angle)*pi/180)\n",
        "  print(path)\n",
        "  print(angle)\n",
        "y = np.array(y)\n",
        "print(\"Completed processing data.txt\")\n",
        "split_index = int(len(y)*0.8)\n",
        "train_y = y[:split_index]\n",
        "test_y = y[split_index:]"
      ],
      "execution_count": 3,
      "outputs": [
        {
          "output_type": "stream",
          "text": [
            "45405.jpg\n",
            "0.000000\n",
            "Completed processing data.txt\n"
          ],
          "name": "stdout"
        }
      ]
    },
    {
      "cell_type": "code",
      "metadata": {
        "id": "d8Xj3cHQGfra",
        "colab_type": "code",
        "outputId": "b79d7127-811b-49eb-f384-a6e2429d34c1",
        "colab": {
          "base_uri": "https://localhost:8080/",
          "height": 265
        }
      },
      "source": [
        "import numpy;\n",
        "\n",
        "# PDF of train and test 'y' values. \n",
        "import matplotlib.pyplot as plt \n",
        "plt.hist(train_y, bins=50,density=True, color='green', histtype ='step'); # normalization is done using 'density' \n",
        "plt.hist(test_y, bins=50,density=True, color='red', histtype ='step');\n",
        "plt.show()"
      ],
      "execution_count": 5,
      "outputs": [
        {
          "output_type": "display_data",
          "data": {
            "image/png": "[encoded data removed]",
            "text/plain": [
              "<Figure size 432x288 with 1 Axes>"
            ]
          },
          "metadata": {
            "tags": []
          }
        }
      ]
    },
    {
      "cell_type": "code",
      "metadata": {
        "id": "J_aDmFtPIqRq",
        "colab_type": "code",
        "colab": {
          "base_uri": "https://localhost:8080/",
          "height": 51
        },
        "outputId": "41ddef14-c881-43c9-e351-5a0d4446e3ad"
      },
      "source": [
        "train_mean_y = np.mean(train_y)\n",
        "\n",
        "print('Test MSE(MEAN): %f' %np.mean(np.square(test_y-train_mean_y)))\n",
        "print('Test MSE(zero): %f' % np.mean(np.square(test_y-0.0)))"
      ],
      "execution_count": 6,
      "outputs": [
        {
          "output_type": "stream",
          "text": [
            "Test MSE(MEAN): 0.191127\n",
            "Test MSE(zero): 0.190891\n"
          ],
          "name": "stdout"
        }
      ]
    }
  ]
}