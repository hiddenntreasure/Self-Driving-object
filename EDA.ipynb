{
  "nbformat": 4,
  "nbformat_minor": 0,
  "metadata": {
    "colab": {
      "name": "EDA.ipynb",
      "provenance": [],
      "mount_file_id": "13rpdAfGkpVDsXnkElbiZNRxsaLttLsWR",
      "authorship_tag": "ABX9TyN23LtZNCpPGranutYIcWeb",
      "include_colab_link": true
    },
    "kernelspec": {
      "name": "python3",
      "display_name": "Python 3"
    }
  },
  "cells": [
    {
      "cell_type": "markdown",
      "metadata": {
        "id": "view-in-github",
        "colab_type": "text"
      },
      "source": [
        "<a href=\"https://colab.research.google.com/github/hiddenntreasure/Self-Driving-object/blob/master/EDA.ipynb\" target=\"_parent\"><img src=\"https://colab.research.google.com/assets/colab-badge.svg\" alt=\"Open In Colab\"/></a>"
      ]
    },
    {
      "cell_type": "code",
      "metadata": {
        "id": "Un0CJvdGcVvK",
        "colab_type": "code",
        "colab": {
          "base_uri": "https://localhost:8080/",
          "height": 68
        },
        "outputId": "42ff697e-23c4-450e-cd1c-78e22bd15bd8"
      },
      "source": [
        "from itertools import islice\n",
        "a =[1,2,3,4,5,6]\n",
        "for i in islice(a,3):\n",
        "  print(i)\n",
        "  #print(j)"
      ],
      "execution_count": 20,
      "outputs": [
        {
          "output_type": "stream",
          "text": [
            "1\n",
            "2\n",
            "3\n"
          ],
          "name": "stdout"
        }
      ]
    },
    {
      "cell_type": "code",
      "metadata": {
        "id": "fj3tkAAoeONe",
        "colab_type": "code",
        "colab": {
          "base_uri": "https://localhost:8080/",
          "height": 68
        },
        "outputId": "93a5e502-9046-4357-863a-ea4c8bc5e32b"
      },
      "source": [
        "from __future__ import division\n",
        "import os\n",
        "import numpy as np\n",
        "import random\n",
        "\n",
        "from scipy import pi\n",
        "from itertools import islice\n",
        "\n",
        "data_folder = '/content/drive/My Drive/Colab Notebooks/CS 11 : Self Driving Car'\n",
        "train_file = os.path.join(data_folder,'data.txt')\n",
        "split = 0.8\n",
        "X = []\n",
        "y = []\n",
        "\n",
        "with open(train_file) as fp:\n",
        "  for line in islice(fp,45406):\n",
        "    path,angle = line.strip().split()\n",
        "    full_path = os.path.join(data_folder,path)\n",
        "    X.append(full_path)\n",
        "    y.append(float(angle)*pi/180)\n",
        "  print(path)\n",
        "  print(angle)\n",
        "y = np.array(y)\n",
        "print(\"Completed processing data.txt\")\n",
        "split_index = int(len(y)*0.8)\n",
        "train_y = y[:split_index]\n",
        "test_y = y[split_index:]"
      ],
      "execution_count": 21,
      "outputs": [
        {
          "output_type": "stream",
          "text": [
            "45405.jpg\n",
            "0.000000\n",
            "Completed processing data.txt\n"
          ],
          "name": "stdout"
        }
      ]
    },
    {
      "cell_type": "code",
      "metadata": {
        "id": "d8Xj3cHQGfra",
        "colab_type": "code",
        "colab": {
          "base_uri": "https://localhost:8080/",
          "height": 265
        },
        "outputId": "0b9ada26-5222-4df2-e1be-7dd90aa1214c"
      },
      "source": [
        "import numpy;\n",
        "\n",
        "# PDF of train and test 'y' values. \n",
        "import matplotlib.pyplot as plt \n",
        "plt.hist(train_index, bins=50,density=True, color='green', histtype ='step'); # normalization is done using 'density' \n",
        "plt.hist(test_index, bins=50,density=True, color='red', histtype ='step');\n",
        "plt.show()"
      ],
      "execution_count": 23,
      "outputs": [
        {
          "output_type": "display_data",
          "data": {
            "image/png": "[encoded data removed]",
            "text/plain": [
              "<Figure size 432x288 with 1 Axes>"
            ]
          },
          "metadata": {
            "tags": []
          }
        }
      ]
    },
    {
      "cell_type": "code",
      "metadata": {
        "id": "J_aDmFtPIqRq",
        "colab_type": "code",
        "colab": {}
      },
      "source": [
        "train_mean_y = np.mean(train_y)\n",
        "\n",
        "print('Test MSE(MEAN): %f' %np.mean(np.square(test_y-train_mean_y)))\n",
        "print('Test MSE(zero): %f' % np.mean(np.square(test_y-0.0)))"
      ],
      "execution_count": 0,
      "outputs": []
    }
  ]
}