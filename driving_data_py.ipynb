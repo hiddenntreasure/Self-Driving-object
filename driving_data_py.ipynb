{
  "nbformat": 4,
  "nbformat_minor": 0,
  "metadata": {
    "colab": {
      "name": "driving_data.py",
      "provenance": [],
      "mount_file_id": "10nYI4slh-LLloVcqnX_lndgJhTQkWbd-",
      "authorship_tag": "ABX9TyPhTZykLIoWF1um3O9dtUcl",
      "include_colab_link": true
    },
    "kernelspec": {
      "name": "python3",
      "display_name": "Python 3"
    }
  },
  "cells": [
    {
      "cell_type": "markdown",
      "metadata": {
        "id": "view-in-github",
        "colab_type": "text"
      },
      "source": [
        "<a href=\"https://colab.research.google.com/github/hiddenntreasure/Self-Driving-object/blob/master/driving_data_py.ipynb\" target=\"_parent\"><img src=\"https://colab.research.google.com/assets/colab-badge.svg\" alt=\"Open In Colab\"/></a>"
      ]
    },
    {
      "cell_type": "code",
      "metadata": {
        "id": "x0-PPxVzTZMl",
        "colab_type": "code",
        "outputId": "814fda8f-df0f-4ac9-a79f-0adaa6bbc3fb",
        "colab": {
          "base_uri": "https://localhost:8080/",
          "height": 360
        }
      },
      "source": [
        "pip install scipy==1.1.0"
      ],
      "execution_count": 0,
      "outputs": [
        {
          "output_type": "stream",
          "text": [
            "ERROR! Session/line number was not unique in database. History logging moved to new session 63\n",
            "Collecting scipy==1.1.0\n",
            "\u001b[?25l  Downloading https://files.pythonhosted.org/packages/a8/0b/f163da98d3a01b3e0ef1cab8dd2123c34aee2bafbb1c5bffa354cc8a1730/scipy-1.1.0-cp36-cp36m-manylinux1_x86_64.whl (31.2MB)\n",
            "\u001b[K     |████████████████████████████████| 31.2MB 140kB/s \n",
            "\u001b[?25hRequirement already satisfied: numpy>=1.8.2 in /usr/local/lib/python3.6/dist-packages (from scipy==1.1.0) (1.18.2)\n",
            "\u001b[31mERROR: tensorflow-federated 0.12.0 has requirement tensorflow~=2.1.0, but you'll have tensorflow 1.15.0 which is incompatible.\u001b[0m\n",
            "\u001b[31mERROR: tensorflow-federated 0.12.0 has requirement tensorflow-addons~=0.7.0, but you'll have tensorflow-addons 0.8.3 which is incompatible.\u001b[0m\n",
            "\u001b[31mERROR: plotnine 0.6.0 has requirement scipy>=1.2.0, but you'll have scipy 1.1.0 which is incompatible.\u001b[0m\n",
            "\u001b[31mERROR: albumentations 0.1.12 has requirement imgaug<0.2.7,>=0.2.5, but you'll have imgaug 0.2.9 which is incompatible.\u001b[0m\n",
            "Installing collected packages: scipy\n",
            "  Found existing installation: scipy 1.4.1\n",
            "    Uninstalling scipy-1.4.1:\n",
            "      Successfully uninstalled scipy-1.4.1\n",
            "Successfully installed scipy-1.1.0\n"
          ],
          "name": "stdout"
        },
        {
          "output_type": "display_data",
          "data": {
            "application/vnd.colab-display-data+json": {
              "pip_warning": {
                "packages": [
                  "scipy"
                ]
              }
            }
          },
          "metadata": {
            "tags": []
          }
        }
      ]
    },
    {
      "cell_type": "code",
      "metadata": {
        "id": "6BC5oCC-SE05",
        "colab_type": "code",
        "colab": {}
      },
      "source": [
        "import scipy.misc\n",
        "import random\n",
        "import numpy as np"
      ],
      "execution_count": 0,
      "outputs": []
    },
    {
      "cell_type": "code",
      "metadata": {
        "id": "mwPWcp-ASrUy",
        "colab_type": "code",
        "outputId": "f3fbed80-5b18-453f-9c00-efd5a8f17c03",
        "colab": {
          "base_uri": "https://localhost:8080/",
          "height": 204
        }
      },
      "source": [
        "x = scipy.misc.imread('/content/drive/My Drive/Colab Notebooks/CS 11 : Self Driving Car/driving_dataset/0.jpg')[-150:]\n",
        "print(x.shape)\n",
        "x= (scipy.misc.imresize(x,[66,200]))\n",
        "print(x.shape)\n",
        "x=x/255.0\n",
        "print(x.shape)"
      ],
      "execution_count": 0,
      "outputs": [
        {
          "output_type": "stream",
          "text": [
            "(150, 455, 3)\n",
            "(66, 200, 3)\n",
            "(66, 200, 3)\n"
          ],
          "name": "stdout"
        },
        {
          "output_type": "stream",
          "text": [
            "/usr/local/lib/python3.6/dist-packages/ipykernel_launcher.py:1: DeprecationWarning: `imread` is deprecated!\n",
            "`imread` is deprecated in SciPy 1.0.0, and will be removed in 1.2.0.\n",
            "Use ``imageio.imread`` instead.\n",
            "  \"\"\"Entry point for launching an IPython kernel.\n",
            "/usr/local/lib/python3.6/dist-packages/ipykernel_launcher.py:3: DeprecationWarning: `imresize` is deprecated!\n",
            "`imresize` is deprecated in SciPy 1.0.0, and will be removed in 1.2.0.\n",
            "Use ``skimage.transform.resize`` instead.\n",
            "  This is separate from the ipykernel package so we can avoid doing imports until\n"
          ],
          "name": "stderr"
        }
      ]
    },
    {
      "cell_type": "code",
      "metadata": {
        "id": "YTomKJcBUxxt",
        "colab_type": "code",
        "outputId": "fa122a48-96e6-4bb3-9129-34776d260235",
        "colab": {
          "base_uri": "https://localhost:8080/",
          "height": 162
        }
      },
      "source": [
        "import matplotlib.pyplot as plt\n",
        "plt.imshow(np.uint8(x))\n",
        "plt.show()"
      ],
      "execution_count": 0,
      "outputs": [
        {
          "output_type": "display_data",
          "data": {
            "image/png": "[encoded data removed]",
            "text/plain": [
              "<Figure size 432x288 with 1 Axes>"
            ]
          },
          "metadata": {
            "tags": []
          }
        }
      ]
    },
    {
      "cell_type": "code",
      "metadata": {
        "id": "30tVesgMVWUq",
        "colab_type": "code",
        "outputId": "5915a7c3-14ff-410a-9fb4-068c0b0688ed",
        "colab": {
          "base_uri": "https://localhost:8080/",
          "height": 34
        }
      },
      "source": [
        "x.shape"
      ],
      "execution_count": 0,
      "outputs": [
        {
          "output_type": "execute_result",
          "data": {
            "text/plain": [
              "(66, 200, 3)"
            ]
          },
          "metadata": {
            "tags": []
          },
          "execution_count": 46
        }
      ]
    },
    {
      "cell_type": "code",
      "metadata": {
        "id": "ZqrqqEdBVkOO",
        "colab_type": "code",
        "outputId": "2991ba00-dfdf-462b-8e54-84f77c600f5a",
        "colab": {
          "base_uri": "https://localhost:8080/",
          "height": 34
        }
      },
      "source": [
        "x.shape"
      ],
      "execution_count": 0,
      "outputs": [
        {
          "output_type": "execute_result",
          "data": {
            "text/plain": [
              "(256, 455, 3)"
            ]
          },
          "metadata": {
            "tags": []
          },
          "execution_count": 14
        }
      ]
    },
    {
      "cell_type": "code",
      "metadata": {
        "id": "C-c8r5tAVj99",
        "colab_type": "code",
        "colab": {}
      },
      "source": [
        "x=[1,2,3,4,5,6,7,8,9,10,11,12,13,14,15]"
      ],
      "execution_count": 0,
      "outputs": []
    },
    {
      "cell_type": "code",
      "metadata": {
        "id": "1G0sniYBWYPT",
        "colab_type": "code",
        "outputId": "1d479a00-a4e8-4d1b-e34c-63da9f2bd5d2",
        "colab": {
          "base_uri": "https://localhost:8080/",
          "height": 51
        }
      },
      "source": [
        "a = x[:int(15*0.8)]\n",
        "b= x[-int(15*0.2):]\n",
        "print(a)\n",
        "print(b)"
      ],
      "execution_count": 0,
      "outputs": [
        {
          "output_type": "stream",
          "text": [
            "[1, 2, 3, 4, 5, 6, 7, 8, 9, 10, 11, 12]\n",
            "[13, 14, 15]\n"
          ],
          "name": "stdout"
        }
      ]
    },
    {
      "cell_type": "markdown",
      "metadata": {
        "id": "5JMi1jIu1rRq",
        "colab_type": "text"
      },
      "source": [
        "#Driving_data"
      ]
    },
    {
      "cell_type": "code",
      "metadata": {
        "id": "DeLl6D9W1-QS",
        "colab_type": "code",
        "colab": {}
      },
      "source": [
        "import scipy.misc\n",
        "import random"
      ],
      "execution_count": 0,
      "outputs": []
    },
    {
      "cell_type": "code",
      "metadata": {
        "id": "Yg1mbtoc2D7f",
        "colab_type": "code",
        "colab": {}
      },
      "source": [
        "xs = []\n",
        "ys = []\n",
        "\n",
        "# points to the end of the last batch\n",
        "train_batch_pointer = 0\n",
        "test_batch_pointer = 0\n",
        "\n",
        "# Read data.txt\n",
        "with open('/content/drive/My Drive/Colab Notebooks/CS 11 : Self Driving Car/data.txt') as f:\n",
        "  for line in f:\n",
        "    xs.append(\"/content/drive/My Drive/Colab Notebooks/CS 11 : Self Driving Car/\" +line.split()[0])\n",
        "    ys.append(float(line.split()[1])*scipy.pi/180)\n",
        "\n",
        "# Number of images in the dataset\n",
        "num_images = len(xs)\n",
        "\n",
        "train_xs = xs[:int(len(xs) * 0.8)]\n",
        "train_ys = ys[:int(len(xs) * 0.8)]\n",
        "\n",
        "val_xs = xs[-int(len(xs) * 0.2):]\n",
        "val_ys = xs[-int(len(xs) * 0.2):]\n",
        "\n",
        "def LoadTrainBatch(batch_size):\n",
        "  global train_batch_pointer\n",
        "  x_out = []\n",
        "  y_out = []\n",
        "\n",
        "  for i in range(0,batch_size):\n",
        "    x_out.append(scipy.misc.imresize(scipy.misc.imread(train_xs[(train_batch_pointer + i)% num_train_pointer])[-150:]\\\n",
        "                                     ,[66,200])/255.0)\n",
        "    y_out.append([train_ys[(train_batch_pointer + i)% num_train_images]])\n",
        "  train_batch_pointer += batch_size\n",
        "  return x_out,y_out\n",
        "\n",
        "def LoadTestBatch(batch_size):\n",
        "  global val_batch_pointer\n",
        "  x_out = []\n",
        "  y_out = []\n",
        "  for i in range(0, batch_size):\n",
        "    x_out.append(scipy.misc.imresize(scipy.misc.imread(val_xs[(val_batch_pointer + i) % num_val_images])[-150:], [66, 200]) / 255.0)\n",
        "    y_out.append([val_ys[(val_batch_pointer + i) % num_val_images]])\n",
        "  val_batch_pointer += batch_size\n",
        "  return x_out, y_out\n"
      ],
      "execution_count": 0,
      "outputs": []
    },
    {
      "cell_type": "code",
      "metadata": {
        "id": "u7kLopgT2onT",
        "colab_type": "code",
        "colab": {}
      },
      "source": [
        ""
      ],
      "execution_count": 0,
      "outputs": []
    }
  ]
}